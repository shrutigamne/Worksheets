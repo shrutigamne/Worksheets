{
 "cells": [
  {
   "cell_type": "markdown",
   "id": "9570fe18",
   "metadata": {},
   "source": [
    "**Write a python program to find the factorial of a number.**"
   ]
  },
  {
   "cell_type": "code",
   "execution_count": 1,
   "id": "2a82e45c",
   "metadata": {},
   "outputs": [
    {
     "name": "stdout",
     "output_type": "stream",
     "text": [
      "Enter a number for find it's factorial 5\n",
      "\n",
      "The factorial of number 5 is 120\n"
     ]
    }
   ],
   "source": [
    "x=int(input(\"Enter a number for find it's factorial \"))\n",
    "factorial=1\n",
    "for i in range(1,x+1):\n",
    "    factorial=i*factorial\n",
    "print(f\"\\nThe factorial of number {x} is {factorial}\")\n"
   ]
  },
  {
   "cell_type": "markdown",
   "id": "a64454c8",
   "metadata": {},
   "source": [
    "**Write a python program to find whether a number is prime or composite.**"
   ]
  },
  {
   "cell_type": "code",
   "execution_count": 3,
   "id": "3e3129ce",
   "metadata": {},
   "outputs": [
    {
     "name": "stdout",
     "output_type": "stream",
     "text": [
      "Enter a number for find it's prime or composite 5\n",
      "\n",
      "The number 5 is prime number\n"
     ]
    }
   ],
   "source": [
    "X=int(input(\"Enter a number for find it's prime or composite \"))\n",
    "pin=True\n",
    "if X==1:\n",
    "    print(f\"The number {X} is not prime number\")  \n",
    "else:\n",
    "    for i in range(2,X):\n",
    "        if (X>2 and X%i==0):\n",
    "            pin=False\n",
    "            break\n",
    "        else:\n",
    "            pin=True\n",
    "if pin==True:\n",
    "    print(f\"\\nThe number {X} is prime number\")\n",
    "else:\n",
    "    print(f\"\\nThe number {X} is composite number\")\n"
   ]
  },
  {
   "cell_type": "markdown",
   "id": "d5ff9ec2",
   "metadata": {},
   "source": [
    "**Write a python program to check whether a given string is palindrome or not.**"
   ]
  },
  {
   "cell_type": "code",
   "execution_count": 6,
   "id": "ba1e82fb",
   "metadata": {},
   "outputs": [
    {
     "name": "stdout",
     "output_type": "stream",
     "text": [
      "Enter a string for find it is palindrome or not. kishan\n",
      "Your string is not palidrome\n"
     ]
    }
   ],
   "source": [
    "X=input(\"Enter a string for find it is palindrome or not. \")\n",
    "X1=X.casefold()\n",
    "Xrev=reversed(X1)\n",
    "if list(X1)==list(Xrev):\n",
    "    print(\"Your string is palindrome\")\n",
    "else:\n",
    "    print(\"Your string is not palidrome\")"
   ]
  },
  {
   "cell_type": "markdown",
   "id": "e89c275f",
   "metadata": {},
   "source": [
    "**Write a Python program to get the third side of right-angled triangle from two given sides.**"
   ]
  },
  {
   "cell_type": "code",
   "execution_count": 3,
   "id": "a8af1325",
   "metadata": {},
   "outputs": [
    {
     "name": "stdout",
     "output_type": "stream",
     "text": [
      "\n",
      "    Enter 1 if (you have hypotenuse and adjacent or opposite value) \n",
      "    otherwise Enter 2 if (you have adjacent and opposite value) \n",
      "1\n",
      "\n",
      "Enter the value of hypotenuse 50\n",
      "\n",
      "Enter the value of adjacent or opposite 40\n",
      "\n",
      "The values of your third side is 30.0\n"
     ]
    }
   ],
   "source": [
    "import math\n",
    "X=input('''\n",
    "    Enter 1 if (you have hypotenuse and adjacent or opposite value) \n",
    "    otherwise Enter 2 if (you have adjacent and opposite value) \\n''')\n",
    "pinn=False\n",
    "recc=False\n",
    "def recall():\n",
    "    recc=True\n",
    "    pin=False\n",
    "    X=input('''\n",
    "    Enter 1 if (you have hypotenuse and adjacent or opposite value) \n",
    "    otherwise Enter 2 if (you have adjacent and opposite value) \\n''')\n",
    "    if X=='1':\n",
    "        a=int(input('\\nEnter the value of hypotenuse '))\n",
    "        b=int(input('\\nEnter the value of adjacent or opposite '))\n",
    "        pin=True\n",
    "    elif X=='2':\n",
    "        b=int(input('\\nEnter the value of adjacent '))\n",
    "        c=int(input('\\nEnter the value of opposite '))\n",
    "        pin=True\n",
    "    else:\n",
    "        print('\\nRead instructions carefully and enter value ')\n",
    "        recall()  \n",
    "    if  pin==True and X=='1':\n",
    "        hyadop(a,b)\n",
    "    elif pin==True and X=='2':\n",
    "        adop(c,b)    \n",
    "def hyadop(a,b):\n",
    "    A=a**2\n",
    "    B=b**2\n",
    "    C=round(math.sqrt(A-B),2)\n",
    "    print(f\"\\nThe values of your third side is {C}\")    \n",
    "def adop(c,b):\n",
    "    A=c**2\n",
    "    B=b**2\n",
    "    C=round(math.sqrt(A+B),2)\n",
    "    print(f\"\\nThe values of your third side is {C}\")\n",
    "if recc==False:\n",
    "    if X=='1':\n",
    "        a=int(input('\\nEnter the value of hypotenuse '))\n",
    "        b=int(input('\\nEnter the value of adjacent or opposite '))\n",
    "        pinn=True\n",
    "    elif X=='2':\n",
    "        b=int(input('\\nEnter the value of adjacent '))\n",
    "        c=int(input('\\nEnter the value of opposite '))\n",
    "        pinn=True\n",
    "    else:\n",
    "        print('\\nRead instructions carefully and enter value ')\n",
    "        recall()\n",
    "else:\n",
    "    pass    \n",
    "if pinn==True and X=='1':\n",
    "    hyadop(a,b)\n",
    "elif pinn==True and X=='2':\n",
    "    adop(c,b)"
   ]
  },
  {
   "cell_type": "markdown",
   "id": "7dae2b5e",
   "metadata": {},
   "source": [
    "**Write a python program to print the frequency of each of the characters present in a given string.**"
   ]
  },
  {
   "cell_type": "code",
   "execution_count": 2,
   "id": "19d951b2",
   "metadata": {},
   "outputs": [
    {
     "name": "stdout",
     "output_type": "stream",
     "text": [
      "Enter the string for find frequensy of count \n",
      "My name is Shruti\n",
      "\n",
      "Count of all characters in my name is shruti is :\n",
      " {'m': 2, 'y': 1, ' ': 3, 'n': 1, 'a': 1, 'e': 1, 'i': 2, 's': 2, 'h': 1, 'r': 1, 'u': 1, 't': 1}\n"
     ]
    }
   ],
   "source": [
    "test= input('Enter the string for find frequensy of count \\n')\n",
    "test=test.casefold()\n",
    "alll= {}\n",
    "for i in test:\n",
    "    if i in alll:\n",
    "        alll[i] = alll[i]+ 1\n",
    "    else:\n",
    "        alll[i] = 1\n",
    "print(f\"\\nCount of all characters in {test} is :\\n \" + str(alll))"
   ]
  },
  {
   "cell_type": "code",
   "execution_count": null,
   "id": "09bdf685",
   "metadata": {},
   "outputs": [],
   "source": []
  }
 ],
 "metadata": {
  "kernelspec": {
   "display_name": "Python 3 (ipykernel)",
   "language": "python",
   "name": "python3"
  },
  "language_info": {
   "codemirror_mode": {
    "name": "ipython",
    "version": 3
   },
   "file_extension": ".py",
   "mimetype": "text/x-python",
   "name": "python",
   "nbconvert_exporter": "python",
   "pygments_lexer": "ipython3",
   "version": "3.9.12"
  }
 },
 "nbformat": 4,
 "nbformat_minor": 5
}
