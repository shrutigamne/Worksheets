{
 "cells": [
  {
   "cell_type": "markdown",
   "id": "5a27109c",
   "metadata": {},
   "source": [
    "**Write a python function print pyramid of stars. Level of the pyramid should be taken as an input from the user. E.g.\n",
    "Input = 5**"
   ]
  },
  {
   "cell_type": "code",
   "execution_count": 1,
   "id": "eb0c8bd5",
   "metadata": {},
   "outputs": [
    {
     "name": "stdout",
     "output_type": "stream",
     "text": [
      "Enter total row :- 5\n",
      "     * \n",
      "    * * \n",
      "   * * * \n",
      "  * * * * \n",
      " * * * * * \n"
     ]
    }
   ],
   "source": [
    "n= int(input('Enter total row :- '))\n",
    "for i in range(0,n):\n",
    "    for j in range(i,n):\n",
    "        print(' ',end=\"\")\n",
    "    for j in range(i+1):\n",
    "        print('*',end=\" \")\n",
    "    print()"
   ]
  },
  {
   "cell_type": "markdown",
   "id": "290ec165",
   "metadata": {},
   "source": [
    "**Write a python function print Hourglass pattern.**"
   ]
  },
  {
   "cell_type": "code",
   "execution_count": 4,
   "id": "6a86eca8",
   "metadata": {},
   "outputs": [
    {
     "name": "stdout",
     "output_type": "stream",
     "text": [
      "Enter total row :- 7\n",
      " * * * * * * * \n",
      "  * * * * * * \n",
      "   * * * * * \n",
      "    * * * * \n",
      "     * * * \n",
      "      * * \n",
      "       * \n",
      "      * * \n",
      "     * * * \n",
      "    * * * * \n",
      "   * * * * * \n",
      "  * * * * * * \n",
      " * * * * * * * \n"
     ]
    }
   ],
   "source": [
    "n=int(input('Enter total row :- '))\n",
    "\n",
    "for i in range(0,n):\n",
    "    for j in range(i+1):\n",
    "        print(' ',end=\"\")\n",
    "    for j in range(i,n):\n",
    "        print('*',end=\" \")\n",
    "    print()\n",
    "    \n",
    "for i in range(1,n):\n",
    "    for j in range(i,n):\n",
    "        print(' ',end=\"\")\n",
    "    for j in range(i+1):\n",
    "        print('*',end=\" \")\n",
    "    print()"
   ]
  },
  {
   "cell_type": "markdown",
   "id": "b2c044b1",
   "metadata": {},
   "source": [
    "**Write a python function to print Pascal’s Triangle. The number of levels in the triangle must be taken as input by the user.**"
   ]
  },
  {
   "cell_type": "code",
   "execution_count": 9,
   "id": "dc1ecd4a",
   "metadata": {},
   "outputs": [
    {
     "name": "stdout",
     "output_type": "stream",
     "text": [
      "Enter total row :- 5\n",
      "1 \n",
      "1 1 \n",
      "1 2 1 \n",
      "1 3 3 1 \n",
      "1 4 6 4 1 \n"
     ]
    }
   ],
   "source": [
    "n=int(input('Enter total row :- '))\n",
    "\n",
    "for i in range(1,n+1):\n",
    "    C=1\n",
    "    for j in range(1,i+1):\n",
    "        print(C, end=\" \")\n",
    "        C=int(C*(i-j)/j)\n",
    "    print()"
   ]
  },
  {
   "cell_type": "markdown",
   "id": "86751397",
   "metadata": {},
   "source": [
    "**Write a python function to print Diamond Shaped Pattern shown below. Function must take integer input which represents the number of stars in the middle most line.**"
   ]
  },
  {
   "cell_type": "code",
   "execution_count": 11,
   "id": "d3cfb8e7",
   "metadata": {},
   "outputs": [
    {
     "name": "stdout",
     "output_type": "stream",
     "text": [
      "Enter total row :- 7\n",
      "       * \n",
      "      * * \n",
      "     * * * \n",
      "    * * * * \n",
      "   * * * * * \n",
      "  * * * * * * \n",
      " * * * * * * * \n",
      "  * * * * * * \n",
      "   * * * * * \n",
      "    * * * * \n",
      "     * * * \n",
      "      * * \n",
      "       * \n"
     ]
    }
   ],
   "source": [
    "n= int(input('Enter total row :- '))\n",
    "for i in range(0,n):\n",
    "    for j in range(i,n):\n",
    "        print(' ',end=\"\")\n",
    "    for j in range(i+1):\n",
    "        print('*',end=\" \")\n",
    "    print()\n",
    "    \n",
    "for i in range(1,n):\n",
    "    for j in range(i+1):\n",
    "        print(' ',end=\"\")\n",
    "    for j in range(i,n):\n",
    "        print('*',end=\" \")\n",
    "    print()"
   ]
  },
  {
   "cell_type": "markdown",
   "id": "3e6be6ff",
   "metadata": {},
   "source": [
    "**Write a python function to print Diamond Shaped Character Pattern shown below. Function must take integer input within range 1 to 26, which represents the rank of the alphabet.**"
   ]
  },
  {
   "cell_type": "code",
   "execution_count": 16,
   "id": "22fd7b34",
   "metadata": {},
   "outputs": [
    {
     "name": "stdout",
     "output_type": "stream",
     "text": [
      "Enter total row :- 5\n",
      "     A \n",
      "    A B \n",
      "   A B C \n",
      "  A B C D \n",
      " A B C D E \n",
      "  A B C D \n",
      "   A B C \n",
      "    A B \n",
      "     A \n"
     ]
    }
   ],
   "source": [
    "n= int(input('Enter total row :- '))\n",
    "for i in range(0,n):\n",
    "    for j in range(i,n):\n",
    "        print(' ',end=\"\")\n",
    "    for j in range(i+1):\n",
    "        print(chr(65+j),end=\" \")\n",
    "    print()\n",
    "    \n",
    "for i in range(1,n):\n",
    "    for j in range(i+1):\n",
    "        print(' ',end=\"\")\n",
    "    for j in range(n-i):\n",
    "        print(chr(65+j),end=\" \")\n",
    "    print()"
   ]
  }
 ],
 "metadata": {
  "kernelspec": {
   "display_name": "Python 3 (ipykernel)",
   "language": "python",
   "name": "python3"
  },
  "language_info": {
   "codemirror_mode": {
    "name": "ipython",
    "version": 3
   },
   "file_extension": ".py",
   "mimetype": "text/x-python",
   "name": "python",
   "nbconvert_exporter": "python",
   "pygments_lexer": "ipython3",
   "version": "3.9.12"
  }
 },
 "nbformat": 4,
 "nbformat_minor": 5
}
