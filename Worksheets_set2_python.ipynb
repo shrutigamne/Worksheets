{
 "cells": [
  {
   "cell_type": "markdown",
   "id": "ec3264d1",
   "metadata": {},
   "source": [
    "**Write a python program to solve a quadratic equation of the form ax^2+bx+c=0. Where a, b and c are to be taken by user input. Handle the erroneous input, such as ‘a’ should not be equal to 0.**"
   ]
  },
  {
   "cell_type": "code",
   "execution_count": 2,
   "id": "22d885bf",
   "metadata": {},
   "outputs": [
    {
     "name": "stdout",
     "output_type": "stream",
     "text": [
      "Enter the value of a 1\n",
      "Enter the value of b 6\n",
      "Enter the value of c 5\n",
      "\n",
      "The value of D is greather than zero, so we get real roots\n",
      "The real roots for a=1,b=6,c=5 is -5.0 and -1.0.\n"
     ]
    }
   ],
   "source": [
    "import math\n",
    "import cmath\n",
    "\n",
    "def recall():\n",
    "    a=int(input('Enter the value of a '))\n",
    "    b=int(input('Enter the value of b '))\n",
    "    c=int(input('Enter the value of c '))\n",
    "    \n",
    "    if a==0:\n",
    "        print('\\nEnter the value of a , a is not equal to zero')\n",
    "        recall()\n",
    "        \n",
    "    elif ((b**2)-(4*a*c))>0:\n",
    "        print(f'\\nThe value of D is greather than zero, so we get real roots')\n",
    "        D=(b**2)-(4*a*c)\n",
    "        X1=round((-b-math.sqrt(D))/(2*a),2)\n",
    "        X2=round((-b+math.sqrt(D))/(2*a),2)\n",
    "        print(f'The real roots for a={a},b={b},c={c} is {X1} and {X2}.')    \n",
    "        \n",
    "    elif ((b**2)-(4*a*c))<0:\n",
    "        print(f'\\nThe value of D is less than zero, so we get complex roots')\n",
    "        D=(b**2)-(4*a*c)\n",
    "        X1=(-b-cmath.sqrt(D))/(2*a)\n",
    "        X2=(-b+cmath.sqrt(D))/(2*a)\n",
    "        print(f'The real roots for a={a},b={b},c={c} is {X1} and {X2}.')\n",
    "        \n",
    "    elif ((b**2)-(4*a*c))==0:\n",
    "        alpha=int((-b/(2*a)))\n",
    "        print(f'\\nThe real roots for a={a},b={b},c={c} is {alpha}.')\n",
    "\n",
    "recall()"
   ]
  },
  {
   "cell_type": "markdown",
   "id": "9c781c20",
   "metadata": {},
   "source": [
    "**Write a python program to find the sum of first ‘n’ natural numbers without using any loop. Ask users to input the value of ‘n’.**"
   ]
  },
  {
   "cell_type": "code",
   "execution_count": 1,
   "id": "cd4f0edc",
   "metadata": {},
   "outputs": [
    {
     "name": "stdout",
     "output_type": "stream",
     "text": [
      "Enter the number for sum 50\n",
      "\n",
      "First 50 number of sum is 1275.\n"
     ]
    }
   ],
   "source": [
    "X=int(input(\"Enter the number for sum \"))\n",
    "nsum=int((X*(X+1))/2)\n",
    "print(f'\\nFirst {X} number of sum is {nsum}.')"
   ]
  },
  {
   "cell_type": "code",
   "execution_count": null,
   "id": "e6f4c6a9",
   "metadata": {},
   "outputs": [],
   "source": []
  }
 ],
 "metadata": {
  "kernelspec": {
   "display_name": "Python 3 (ipykernel)",
   "language": "python",
   "name": "python3"
  },
  "language_info": {
   "codemirror_mode": {
    "name": "ipython",
    "version": 3
   },
   "file_extension": ".py",
   "mimetype": "text/x-python",
   "name": "python",
   "nbconvert_exporter": "python",
   "pygments_lexer": "ipython3",
   "version": "3.9.12"
  }
 },
 "nbformat": 4,
 "nbformat_minor": 5
}
